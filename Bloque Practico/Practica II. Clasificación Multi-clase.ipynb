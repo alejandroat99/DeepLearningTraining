{
 "cells": [
  {
   "cell_type": "code",
   "execution_count": 2,
   "id": "vocal-security",
   "metadata": {},
   "outputs": [],
   "source": [
    "import numpy as np\n",
    "import matplotlib.pyplot as plt\n",
    "import pandas as pd\n",
    "from tensorflow import keras\n",
    "from tensorflow.keras.models import Sequential\n",
    "from tensorflow.keras.layers import Dense, Conv2D, MaxPooling2D, Flatten"
   ]
  },
  {
   "cell_type": "code",
   "execution_count": 19,
   "id": "religious-missouri",
   "metadata": {},
   "outputs": [
    {
     "name": "stdout",
     "output_type": "stream",
     "text": [
      "Dataset:\n",
      "Train data: (60000, 28, 28, 1)\n",
      " Test data: (10000, 28, 28, 1)\n"
     ]
    }
   ],
   "source": [
    "n_classes = 10\n",
    "input_shape = (28, 28, 1)\n",
    "\n",
    "(x_train, y_train), (x_test, y_test) = keras.datasets.mnist.load_data()\n",
    "x_train = x_train.astype('float32') / 255\n",
    "x_test = x_test.astype('float32') / 255\n",
    "\n",
    "x_train = np.expand_dims(x_train, -1)\n",
    "x_test = np.expand_dims(x_test, -1)\n",
    "\n",
    "y_train = keras.utils.to_categorical(y_train, n_classes)\n",
    "y_test = keras.utils.to_categorical(y_test, n_classes)\n",
    "\n",
    "print('Dataset:')\n",
    "print('Train data:', x_train.shape)\n",
    "print(' Test data:', x_test.shape)"
   ]
  },
  {
   "cell_type": "code",
   "execution_count": 11,
   "id": "urban-wonder",
   "metadata": {},
   "outputs": [
    {
     "name": "stdout",
     "output_type": "stream",
     "text": [
      "Model: \"mnist_classifier_model\"\n",
      "_________________________________________________________________\n",
      "Layer (type)                 Output Shape              Param #   \n",
      "=================================================================\n",
      "conv2d (Conv2D)              (None, 26, 26, 32)        320       \n",
      "_________________________________________________________________\n",
      "max_pooling2d (MaxPooling2D) (None, 13, 13, 32)        0         \n",
      "_________________________________________________________________\n",
      "conv2d_1 (Conv2D)            (None, 11, 11, 64)        18496     \n",
      "_________________________________________________________________\n",
      "max_pooling2d_1 (MaxPooling2 (None, 5, 5, 64)          0         \n",
      "_________________________________________________________________\n",
      "flatten (Flatten)            (None, 1600)              0         \n",
      "_________________________________________________________________\n",
      "dense (Dense)                (None, 32)                51232     \n",
      "_________________________________________________________________\n",
      "dense_1 (Dense)              (None, 10)                330       \n",
      "=================================================================\n",
      "Total params: 70,378\n",
      "Trainable params: 70,378\n",
      "Non-trainable params: 0\n",
      "_________________________________________________________________\n"
     ]
    }
   ],
   "source": [
    "model = Sequential(name='mnist_classifier_model')\n",
    "model.add(Conv2D(32, kernel_size=(3,3), activation='relu', input_shape=input_shape))\n",
    "model.add(MaxPooling2D(2,2))\n",
    "model.add(Conv2D(64, kernel_size=(3,3), activation='relu'))\n",
    "model.add(MaxPooling2D(2,2))\n",
    "model.add(Flatten())\n",
    "model.add(Dense(32, activation='relu'))\n",
    "model.add(Dense(n_classes, activation='softmax'))\n",
    "\n",
    "model.compile(loss='categorical_crossentropy', optimizer='sgd', metrics=['accuracy'])\n",
    "model.summary()"
   ]
  },
  {
   "cell_type": "code",
   "execution_count": 12,
   "id": "searching-blast",
   "metadata": {},
   "outputs": [
    {
     "name": "stdout",
     "output_type": "stream",
     "text": [
      "Epoch 1/20\n",
      "211/211 [==============================] - 24s 107ms/step - loss: 2.2701 - accuracy: 0.1470 - val_loss: 2.0467 - val_accuracy: 0.4943\n",
      "Epoch 2/20\n",
      "211/211 [==============================] - 19s 92ms/step - loss: 1.6815 - accuracy: 0.6062 - val_loss: 0.5081 - val_accuracy: 0.8782\n",
      "Epoch 3/20\n",
      "211/211 [==============================] - 19s 92ms/step - loss: 0.5133 - accuracy: 0.8533 - val_loss: 0.3148 - val_accuracy: 0.9120\n",
      "Epoch 4/20\n",
      "211/211 [==============================] - 20s 93ms/step - loss: 0.3638 - accuracy: 0.8916 - val_loss: 0.2681 - val_accuracy: 0.9238\n",
      "Epoch 5/20\n",
      "211/211 [==============================] - 20s 93ms/step - loss: 0.3021 - accuracy: 0.9094 - val_loss: 0.2171 - val_accuracy: 0.9402\n",
      "Epoch 6/20\n",
      "211/211 [==============================] - 20s 94ms/step - loss: 0.2648 - accuracy: 0.9204 - val_loss: 0.1933 - val_accuracy: 0.9447\n",
      "Epoch 7/20\n",
      "211/211 [==============================] - 20s 93ms/step - loss: 0.2381 - accuracy: 0.9288 - val_loss: 0.1825 - val_accuracy: 0.9470\n",
      "Epoch 8/20\n",
      "211/211 [==============================] - 20s 93ms/step - loss: 0.2110 - accuracy: 0.9376 - val_loss: 0.1583 - val_accuracy: 0.9560\n",
      "Epoch 9/20\n",
      "211/211 [==============================] - 20s 93ms/step - loss: 0.1952 - accuracy: 0.9416 - val_loss: 0.1476 - val_accuracy: 0.9592\n",
      "Epoch 10/20\n",
      "211/211 [==============================] - 19s 92ms/step - loss: 0.1812 - accuracy: 0.9457 - val_loss: 0.1430 - val_accuracy: 0.9600\n",
      "Epoch 11/20\n",
      "211/211 [==============================] - 20s 93ms/step - loss: 0.1697 - accuracy: 0.9502 - val_loss: 0.1316 - val_accuracy: 0.9647\n",
      "Epoch 12/20\n",
      "211/211 [==============================] - 20s 93ms/step - loss: 0.1514 - accuracy: 0.9546 - val_loss: 0.1232 - val_accuracy: 0.9667\n",
      "Epoch 13/20\n",
      "211/211 [==============================] - 19s 92ms/step - loss: 0.1451 - accuracy: 0.9575 - val_loss: 0.1184 - val_accuracy: 0.9672\n",
      "Epoch 14/20\n",
      "211/211 [==============================] - 20s 94ms/step - loss: 0.1308 - accuracy: 0.9608 - val_loss: 0.1149 - val_accuracy: 0.9688\n",
      "Epoch 15/20\n",
      "211/211 [==============================] - 20s 93ms/step - loss: 0.1316 - accuracy: 0.9611 - val_loss: 0.1161 - val_accuracy: 0.9683\n",
      "Epoch 16/20\n",
      "211/211 [==============================] - 20s 93ms/step - loss: 0.1234 - accuracy: 0.9633 - val_loss: 0.1035 - val_accuracy: 0.9720\n",
      "Epoch 17/20\n",
      "211/211 [==============================] - 21s 100ms/step - loss: 0.1153 - accuracy: 0.9657 - val_loss: 0.0972 - val_accuracy: 0.9753\n",
      "Epoch 18/20\n",
      "211/211 [==============================] - 20s 93ms/step - loss: 0.1120 - accuracy: 0.9669 - val_loss: 0.0965 - val_accuracy: 0.9757\n",
      "Epoch 19/20\n",
      "211/211 [==============================] - 19s 92ms/step - loss: 0.1052 - accuracy: 0.9688 - val_loss: 0.0921 - val_accuracy: 0.9758\n",
      "Epoch 20/20\n",
      "211/211 [==============================] - 20s 93ms/step - loss: 0.1022 - accuracy: 0.9691 - val_loss: 0.0908 - val_accuracy: 0.9750\n"
     ]
    }
   ],
   "source": [
    "history = model.fit(x_train, y_train, batch_size=256, epochs=20, validation_split=0.1)"
   ]
  },
  {
   "cell_type": "code",
   "execution_count": 13,
   "id": "instant-complement",
   "metadata": {},
   "outputs": [
    {
     "data": {
      "image/png": "[encoded data removed]",
      "text/plain": [
       "<Figure size 432x288 with 1 Axes>"
      ]
     },
     "metadata": {
      "needs_background": "light"
     },
     "output_type": "display_data"
    },
    {
     "data": {
      "image/png": "[encoded data removed]",
      "text/plain": [
       "<Figure size 432x288 with 1 Axes>"
      ]
     },
     "metadata": {
      "needs_background": "light"
     },
     "output_type": "display_data"
    }
   ],
   "source": [
    "# Graficas del proceso de entrenamiento\n",
    "plt.plot(history.history['accuracy'])\n",
    "plt.plot(history.history['val_accuracy'])\n",
    "plt.title('model accuracy')\n",
    "plt.ylabel('accuracy')\n",
    "plt.xlabel('epoch')\n",
    "plt.legend(['train', 'test'], loc='upper left')\n",
    "plt.show()\n",
    "# summarize history for loss\n",
    "plt.plot(history.history['loss'])\n",
    "plt.plot(history.history['val_loss'])\n",
    "plt.title('model loss')\n",
    "plt.ylabel('loss')\n",
    "plt.xlabel('epoch')\n",
    "plt.legend(['train', 'test'], loc='upper left')\n",
    "plt.show()"
   ]
  },
  {
   "cell_type": "code",
   "execution_count": 14,
   "id": "joined-williams",
   "metadata": {},
   "outputs": [
    {
     "name": "stdout",
     "output_type": "stream",
     "text": [
      "Test loss: 0.08915100991725922\n",
      "Test accuracy: 0.9742000102996826\n"
     ]
    }
   ],
   "source": [
    "score = model.evaluate(x_test, y_test, verbose=0)\n",
    "print('Test loss:', score[0])\n",
    "print('Test accuracy:', score[1])"
   ]
  }
 ],
 "metadata": {
  "kernelspec": {
   "display_name": "Python 3",
   "language": "python",
   "name": "python3"
  },
  "language_info": {
   "codemirror_mode": {
    "name": "ipython",
    "version": 3
   },
   "file_extension": ".py",
   "mimetype": "text/x-python",
   "name": "python",
   "nbconvert_exporter": "python",
   "pygments_lexer": "ipython3",
   "version": "3.8.1"
  }
 },
 "nbformat": 4,
 "nbformat_minor": 5
}
