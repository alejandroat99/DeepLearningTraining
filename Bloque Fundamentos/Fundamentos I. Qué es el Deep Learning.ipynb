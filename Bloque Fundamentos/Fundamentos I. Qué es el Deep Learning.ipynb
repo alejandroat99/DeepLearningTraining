{
 "cells": [
  {
   "cell_type": "markdown",
   "metadata": {},
   "source": [
    "# Fundamentos\n",
    "En este bloque se explicarán los fundamentos y conceptos necesarios para el desarrollo de redes neuronales en el área de Deep Learning. Todos los contenidos teóricos proporcionados en este bloque han sido recogidos del libro __Deep Learning with Python__ del autor François Chollet\n",
    "\n",
    "## Fundamentos I. ¿Qué es el Deep Learning?\n",
    "Este primer cuaderno se centrará en explicar qué es el Deep Learning y las características que la diferencian del resto de tipos de desarrollo de Inteligencia Artificial. Además, también se explicará el funcionamiento de las redes neuronales y la forma en la que se utilizan.\n",
    "\n",
    "### 1. IA Clásica vs Machine Learning\n",
    "Antes de entrar ha explicar Deep Learing debemos explicar el contexto en el que se engloba. Por el momento podemos decir que el Deep Learning es una subárea del Machine Learning y este es un paradigma totalmente distinto al usado por la inteligencia artificial clásica.\n",
    "La forma clásica de lograr inteligencia artificial siempre ha sido el desarrollo de algoritmos que dados un conjunto de reglas y de datos, se proporciona una respuesta. Pero el Machine Learning propone un enfoque totalmente diferente, en lugar de enseñarle lo que sabemos al programa, buscamos que el programa aprenda por sí mismo lo que tiene que hacer.\n",
    "\n",
    "`Insertar imagen de esquema`\n",
    "\n",
    "Ilustremos esta diferencia con un ejemplo, suponiendo que tratamos de realizar un programa que encuentre el camino entre dos puntos en una malla. Queremos que el programa sea capaz de encontrar un camino entre la posición inicial y la posición destino o final, y que solo se pueda mover en las cuatro direcciones básicas (arriba, abajo, izquierda y derecha). En el enfoque clásico tendríamos que codificar todas las reglas por las que se rigen los movimientos y aplicar o desarrollar un algoritmo de búsqueda de caminos que permitiese encontrar el camino deseado. Por otro lado, si seguimos el enfoque de machine learning, tendríamos que proporcionarle al programa los distintos datos de entrada como pudieran ser el punto inicial y final, y una serie de ejemplos de problemas resueltos de diferentes instancias del problema. Posteriormente, el algoritmo usaría esos datos de ejemplo para aprender la forma en la que se encuentran los caminos dentro de la malla e inferir las reglas del mundo en el que se está moviendo.\n",
    "\n",
    "Como podemos ver en el ejemplo, un sistema de machine learning es entrenado en lugar de programado como en el enfoque clásico. Al sistema se le presentan tantos ejemplos como sean posibles de resoluciones del problema para que aprenda la estructura estadística que sigue y que finalmente sea capaz de encontrar las reglas o el modelo para automatizar la tarea para la que ha sido creada.\n",
    "\n",
    "### 2. ¿Cómo aprende el Machine Learning?\n",
    "Como se ha mencionado en el apartado anterior, la técnica de Machine Learning necesita aprender una representación de los datos del problema para poder solucionar el problema de la manera correcta. Esto lleva a plantearse la pregunta: ¿Cómo aprende un algoritmo de Machine Learing?\n",
    "Para que un algoritmo de Machine Learning aprenda se necesitan tres elementos fundamentales:\n",
    "1. **Conjunto de Datos de Entrada**: son los datos que el sistema necesita para realizar su función, estos pueden ser archivos sonido, imágenes, flujos de datos, etc.\n",
    "2. **Ejemplos de Datos de Salida**: son los resultados esperados del conjunto de datos de entrada, es decir, sirven para que el sistema vea el resultado que debería proporcionar para una entrada concreta.\n",
    "3. **Una Función de Coste**: esta es posiblemente una de las partes más importantes de un sistema de Machine Learning, esta función permite cuantificar cómo de bien el sistema ha aproximado un resultado para un conjunto de datos de entrada concretos. En otras palabras, se le proporciona un conjunto de datos al sistema y le dejamos que realice los cálculos necesarios. Una vez que que tenemos el resultado, usamos la función de coste para compararlo con el resultado que esperábamos.\n",
    "\n",
    "Utilizando estos tres elementos, el sistema aprende ha realizar una representación de los datos de entrada. El objetivo de los modelos de Machine Learning puede simplificarse en encontrar la representación correcta de los datos de entrada.\n",
    "\n",
    "### 3. Deep Learning\n",
    "Deep Learning es una subárea del Machine Learning que aprende la representación de los datos de entrada pero enfocándose en hacerlo mediante un sistema de capas de representación en el que cada capa aprende un nivel de respresentación más significativo que el de la capa anterior. El \"deep\" de Deep Learing no tiene ninguna relación con que aprenda de forma más profunda o alcance un conocimiento más alto de los datos, en realidad hace referencia al número de capas utilizadas para aprender la representación de los datos. Los sistemas de Deep Learning actuales están formados por cientos o miles de capas mientrás que los enfoques de Machine Learing suelen involucrar sólo una o dos capas de representación.\n",
    "\n",
    "Estas representaciones de capas son conocidas como **Redes Neuronales**, que son literalmente capas de neuronas apiladas y conectadas una tras otra. \n",
    "\n",
    "Resumiendo lo que hemos visto hasta ahora, sabemos que el Machine Learning trata sobre tomar unos datos de entrada y enlazarlos de alguna forma con unos resultados concretos, y esta forma de enlazarlos se consigue a través de ejemplos de datos de entrada y de salida.\n",
    "\n",
    "#### 3.1 ¿Cómo funciona el Deep Learning?\n",
    "En esta sección hablaremos más en profundidad de todos los aspectos del aprendizaje de Deep Learning y cómo contribuye cada uno al preceso de aprendizaje.\n",
    "\n",
    "Las capas de neuronas son los fundamentos del modelo y se encargan de transformar los datos. Los datos que recibe cada neurona son almacenados juntos con el peso o importancia de cada uno, es decir, la transformación que realiza la neurona se encuentra parametrizada. Siguiendo por este camino, podríamos decir que el proceso de aprendizaje se basa en encontrar los pesos correctos para cada neurona del modelo. Aunque esto nos presenta un problema: en un modelo podemos tener perfectamente millones de pesos que ajustar y debemos tener en cuenta que modificar un peso afectará también al resto.\n",
    "\n",
    "`Insertar imagen de las capas y los pesos`\n",
    "\n",
    "Para controlar y facilitar este proceso, introducimos la **Función de Coste** que nos permite medir cómo de diferente es el resultado obtenido del esperado. Utilizando los resultados proporcionados somos capaces de saber cuanto nos hemos desviado del oobjetivo y cómo de grandes deben de ser las modificaciones para alcanzar el ajuste correcto.\n",
    "\n",
    "`Isertar de la función de coste`\n",
    "\n",
    "Por último, para realizar el ajuste de los parámetros del modelo debemos utilizar un optimizador que implemente el **Algoritmo de Backpropagation**. Este algoritmo es el más importante de todo el aprendizaje de redes neuronales ya que es el que realiza la acción de \"aprender\".\n",
    "\n",
    "`Insertar imagen del optimizador`\n",
    "\n",
    "Por lo tanto, el proceso general de aprendizaje en un sistema de Deep Learing sería:\n",
    "1. Cargamos el modelo de la red con sus pesos iniciales\n",
    "2. Alimentamos el modelo con datos de prueba junto con sus resultado\n",
    "3. Comparamos el resultado obtenido con el esperado a usando la **Función de Coste**\n",
    "4. Le damos los resultados de la función de coste al optimizador\n",
    "5. El optimizador actualiza los pesos del modelo\n",
    "\n",
    "Este proceso de aprendizaje se repite el tantas veces hasta que se alcancen unos criterios de aceptación del modelo o hasta que se acaben los datos de entrenamiento."
   ]
  }
 ],
 "metadata": {
  "kernelspec": {
   "display_name": "Python 3",
   "language": "python",
   "name": "python3"
  },
  "language_info": {
   "codemirror_mode": {
    "name": "ipython",
    "version": 3
   },
   "file_extension": ".py",
   "mimetype": "text/x-python",
   "name": "python",
   "nbconvert_exporter": "python",
   "pygments_lexer": "ipython3",
   "version": "3.7.3"
  }
 },
 "nbformat": 4,
 "nbformat_minor": 4
}
